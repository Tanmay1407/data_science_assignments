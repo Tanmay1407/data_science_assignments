{
 "cells": [
  {
   "cell_type": "code",
   "execution_count": 1,
   "id": "2feab46c-7f9d-4c09-a969-826b73860ff3",
   "metadata": {},
   "outputs": [
    {
     "data": {
      "text/plain": [
       "[1, 3, 5, 7, 9, 11, 13, 15, 17, 19, 21, 23, 25]"
      ]
     },
     "execution_count": 1,
     "metadata": {},
     "output_type": "execute_result"
    }
   ],
   "source": [
    "# Que 1 :\n",
    "## 'def' -> keyword is used to define a function in python\n",
    "def getOdd():\n",
    "     return list(range(1,26,2))\n",
    "\n",
    "getOdd()   "
   ]
  },
  {
   "cell_type": "code",
   "execution_count": 2,
   "id": "545460b4-e524-44bb-88cf-0893994aeb13",
   "metadata": {},
   "outputs": [
    {
     "name": "stdout",
     "output_type": "stream",
     "text": [
      "<class 'int'>\n",
      "<class 'str'>\n",
      "<class 'tuple'>\n",
      "<class 'dict'>\n"
     ]
    }
   ],
   "source": [
    "# Que 2 :\n",
    "## '*args' -> used to take multiple input parameters (when no. of inputs to the function are not fixed)\n",
    "def test(*args):\n",
    "    for i in args:\n",
    "        print(type(i))\n",
    "\n",
    "test(1,\"tanmay\", (1,2), {1:\"value\"})"
   ]
  },
  {
   "cell_type": "code",
   "execution_count": 3,
   "id": "9ef15a15-ea0b-40d1-a956-3d12759d8ab0",
   "metadata": {},
   "outputs": [
    {
     "data": {
      "text/plain": [
       "{'a': '1', 'b': '2', 'c': '3'}"
      ]
     },
     "execution_count": 3,
     "metadata": {},
     "output_type": "execute_result"
    }
   ],
   "source": [
    "## '**kwargs' -> used to take inputs in the form of key-value pairs : dict\n",
    "def test(**kwargs):\n",
    "    return kwargs\n",
    "\n",
    "test(a=\"1\",b=\"2\",c=\"3\")"
   ]
  },
  {
   "cell_type": "code",
   "execution_count": 10,
   "id": "e7d33bf1-2f71-4384-8a6d-cf457638f909",
   "metadata": {},
   "outputs": [
    {
     "name": "stdout",
     "output_type": "stream",
     "text": [
      "2\n",
      "4\n",
      "6\n",
      "8\n",
      "10\n"
     ]
    }
   ],
   "source": [
    "# Que 3 :\n",
    "\"\"\" Iterator -> An iterator is an object that contains a countable number of values. \n",
    "An iterator is an object that can be iterated upon, meaning that you can traverse through all the values. \"\"\"\n",
    "## Method used for initializing iterator object : iter() and next() -> used for iteration\n",
    "\n",
    "l =[2, 4, 6, 8, 10, 12, 14,16, 18, 20]\n",
    "iterObj = iter(l)\n",
    "for i in range(5):\n",
    "    print( next(iterObj))\n",
    "   "
   ]
  },
  {
   "cell_type": "code",
   "execution_count": 11,
   "id": "31936ee9-d77c-43c1-be15-2fb011733988",
   "metadata": {},
   "outputs": [
    {
     "name": "stdout",
     "output_type": "stream",
     "text": [
      "0  1  2  3  4  "
     ]
    }
   ],
   "source": [
    "# Que 4 : \n",
    "\"\"\" Generator Function : allow you to declare a function that behaves likes an iterator,\n",
    "allowing programmers to make an iterator in a fast, easy, and clean way \"\"\"\n",
    "## yield() -> used to return an value from function without breaking/stopping it\n",
    "\n",
    "def getNums(c):\n",
    "    count = 0\n",
    "    while count <= c:\n",
    "        yield count\n",
    "        count += 1\n",
    "\n",
    "for i in getNums(4):\n",
    "    print(i,\" \",end='')\n",
    "    \n",
    "        "
   ]
  },
  {
   "cell_type": "code",
   "execution_count": 13,
   "id": "7bf2b976-8a57-48a8-bc1b-4d24e9056d19",
   "metadata": {},
   "outputs": [
    {
     "name": "stdout",
     "output_type": "stream",
     "text": [
      "2\n",
      "3\n",
      "5\n",
      "7\n",
      "11\n",
      "13\n",
      "17\n",
      "19\n",
      "23\n",
      "29\n",
      "31\n",
      "37\n",
      "41\n",
      "43\n",
      "47\n",
      "53\n",
      "59\n",
      "61\n",
      "67\n",
      "71\n"
     ]
    }
   ],
   "source": [
    "# Ques 5 :\n",
    "import math\n",
    "\n",
    "def is_prime(n):\n",
    "    if (n <= 1):\n",
    "        return False\n",
    "    if (n == 2):\n",
    "        return True\n",
    "    if (n % 2 == 0):\n",
    "        return False\n",
    "\n",
    "    i = 3\n",
    "    while i <= math.sqrt(n):\n",
    "        if n % i == 0:\n",
    "            return False\n",
    "        i = i + 2\n",
    "\n",
    "    return True\n",
    "\n",
    "def prime_generator():\n",
    "    n = 1\n",
    "    while True:\n",
    "        n += 1\n",
    "        if is_prime(n):\n",
    "            yield n  \n",
    "            \n",
    "g = prime_generator() # Make object then call, else re-initialization will take place\n",
    "            \n",
    "for i in range(20) :\n",
    "    print(next(g))"
   ]
  },
  {
   "cell_type": "code",
   "execution_count": 14,
   "id": "fe2171fb-1859-4d1c-bdd0-213511d35503",
   "metadata": {},
   "outputs": [
    {
     "name": "stdout",
     "output_type": "stream",
     "text": [
      "0\n",
      "1\n",
      "1\n",
      "2\n",
      "3\n",
      "5\n",
      "8\n",
      "13\n",
      "21\n",
      "34\n"
     ]
    }
   ],
   "source": [
    "## Que 6:\n",
    "\n",
    "n = 10\n",
    "a,b = 0,1\n",
    "while n > 0 :\n",
    "    print(a)\n",
    "    c= a+b\n",
    "    a = b\n",
    "    b = c\n",
    "    n -= 1\n",
    "    "
   ]
  },
  {
   "cell_type": "code",
   "execution_count": 18,
   "id": "6a0b81b7-cb31-48fc-a558-68f922a77ae4",
   "metadata": {},
   "outputs": [
    {
     "data": {
      "text/plain": [
       "['p', 'w', 's', 'k', 'i', 'l', 'l', 's']"
      ]
     },
     "execution_count": 18,
     "metadata": {},
     "output_type": "execute_result"
    }
   ],
   "source": [
    "## Que 7:\n",
    "s = \"pwskills\"\n",
    "l = [i for i in s]\n",
    "l"
   ]
  },
  {
   "cell_type": "code",
   "execution_count": 20,
   "id": "2e0a40f5-16f4-4c7a-b0a2-4667d0e26ec5",
   "metadata": {},
   "outputs": [
    {
     "name": "stdout",
     "output_type": "stream",
     "text": [
      "Number is palindrome\n"
     ]
    }
   ],
   "source": [
    "## Que 8:\n",
    "num = 11211\n",
    "# convert to string :\n",
    "s = str(num)\n",
    "i,j = 0,len(s)-1\n",
    "f = True\n",
    "\n",
    "while(i<=j) :\n",
    "    if(s[i] != s[j]):\n",
    "        f  = False\n",
    "        break\n",
    "    i += 1\n",
    "    j -= 1\n",
    "    \n",
    "if f :\n",
    "    print(\"Number is palindrome\")\n",
    "else :\n",
    "    print(\"Number NOT a palindrome\")"
   ]
  },
  {
   "cell_type": "code",
   "execution_count": 22,
   "id": "b2426477-d743-4b00-8fd6-12caa62f959c",
   "metadata": {},
   "outputs": [
    {
     "data": {
      "text/plain": [
       "[1,\n",
       " 3,\n",
       " 5,\n",
       " 7,\n",
       " 9,\n",
       " 11,\n",
       " 13,\n",
       " 15,\n",
       " 17,\n",
       " 19,\n",
       " 21,\n",
       " 23,\n",
       " 25,\n",
       " 27,\n",
       " 29,\n",
       " 31,\n",
       " 33,\n",
       " 35,\n",
       " 37,\n",
       " 39,\n",
       " 41,\n",
       " 43,\n",
       " 45,\n",
       " 47,\n",
       " 49,\n",
       " 51,\n",
       " 53,\n",
       " 55,\n",
       " 57,\n",
       " 59,\n",
       " 61,\n",
       " 63,\n",
       " 65,\n",
       " 67,\n",
       " 69,\n",
       " 71,\n",
       " 73,\n",
       " 75,\n",
       " 77,\n",
       " 79,\n",
       " 81,\n",
       " 83,\n",
       " 85,\n",
       " 87,\n",
       " 89,\n",
       " 91,\n",
       " 93,\n",
       " 95,\n",
       " 97,\n",
       " 99]"
      ]
     },
     "execution_count": 22,
     "metadata": {},
     "output_type": "execute_result"
    }
   ],
   "source": [
    "## Que 9 :\n",
    "l = [i for i in range(1,101)]\n",
    "odds = [i for i in l if i%2 != 0]\n",
    "odds"
   ]
  },
  {
   "cell_type": "code",
   "execution_count": null,
   "id": "8f452dea-e427-4c79-9ee8-b1beacde4f03",
   "metadata": {},
   "outputs": [],
   "source": []
  }
 ],
 "metadata": {
  "kernelspec": {
   "display_name": "Python 3 (ipykernel)",
   "language": "python",
   "name": "python3"
  },
  "language_info": {
   "codemirror_mode": {
    "name": "ipython",
    "version": 3
   },
   "file_extension": ".py",
   "mimetype": "text/x-python",
   "name": "python",
   "nbconvert_exporter": "python",
   "pygments_lexer": "ipython3",
   "version": "3.10.8"
  }
 },
 "nbformat": 4,
 "nbformat_minor": 5
}
