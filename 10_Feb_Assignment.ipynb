{
 "cells": [
  {
   "cell_type": "code",
   "execution_count": 18,
   "id": "e0457b7c-edc4-4788-b392-0719957ca41e",
   "metadata": {},
   "outputs": [
    {
     "data": {
      "text/plain": [
       "\"\\nQ1. Which function is used to open a file? What are the different modes of opening a file? Explain each mode\\nof file opening.\\nAns. In python we use open method to open files. Files can be open in 2 modes that are read and write mode.\\n     Write mode:- This mode is used as \\n         f =  open('file.txt', 'w')\\n    It can be used to overwrite the in the file that already exists or here if file does not exists with this name it creates\\n    one and writes down into it.\\n    \\n    Read mode:- This mode is used as\\n        f = open('file.txt', 'r')\\n    It can be used to get the data that is in the file. It can only return data if the file is present else it returns \\n    FileNotFound Error if the file does not exist.\\n\\n\\n\""
      ]
     },
     "execution_count": 18,
     "metadata": {},
     "output_type": "execute_result"
    }
   ],
   "source": [
    "'''\n",
    "Q1. Which function is used to open a file? What are the different modes of opening a file? Explain each mode\n",
    "of file opening.\n",
    "Ans. In python we use open method to open files. Files can be open in 2 modes that are read and write mode.\n",
    "     Write mode:- This mode is used as \n",
    "         f =  open('file.txt', 'w')\n",
    "    It can be used to overwrite the in the file that already exists or here if file does not exists with this name it creates\n",
    "    one and writes down into it.\n",
    "    \n",
    "    Read mode:- This mode is used as\n",
    "        f = open('file.txt', 'r')\n",
    "    It can be used to get the data that is in the file. It can only return data if the file is present else it returns \n",
    "    FileNotFound Error if the file does not exist.\n",
    "\n",
    "\n",
    "'''"
   ]
  },
  {
   "cell_type": "code",
   "execution_count": 19,
   "id": "ac395169-d37f-43d4-a459-99ef0549aaba",
   "metadata": {},
   "outputs": [
    {
     "data": {
      "text/plain": [
       "'\\nQ2. Why close() function is used? Why is it important to close a file?\\nAns. The close() method is used to flush and close an open file, it is required to close an open file after performing the \\n     input output operations, as sometimes due to buffering the changes may not be shown, but using close() resolves it.\\n'"
      ]
     },
     "execution_count": 19,
     "metadata": {},
     "output_type": "execute_result"
    }
   ],
   "source": [
    "'''\n",
    "Q2. Why close() function is used? Why is it important to close a file?\n",
    "Ans. The close() method is used to flush and close an open file, it is required to close an open file after performing the \n",
    "     input output operations, as sometimes due to buffering the changes may not be shown, but using close() resolves it.\n",
    "'''"
   ]
  },
  {
   "cell_type": "code",
   "execution_count": 20,
   "id": "69620d0c-917f-425c-a82f-761906287543",
   "metadata": {},
   "outputs": [
    {
     "name": "stdout",
     "output_type": "stream",
     "text": [
      "I want to become a Data Scientist\n"
     ]
    }
   ],
   "source": [
    "'''\n",
    "Q3. Write a python program to create a text file. Write ‘I want to become a Data Scientist’ in that file. Then\n",
    "close the file. Open this file and read the content of the file.\n",
    "'''\n",
    "\n",
    "def wtest(file):\n",
    "    f = open(file, 'w')\n",
    "    f.write('I want to become a Data Scientist')\n",
    "    f.close()\n",
    "    \n",
    "def rtest(file):\n",
    "    f = open(file, 'r')\n",
    "    print(f.read())\n",
    "    \n",
    "wtest('assignmentfile.txt')\n",
    "rtest('assignmentfile.txt')"
   ]
  },
  {
   "cell_type": "code",
   "execution_count": 21,
   "id": "01cb9781-1632-4a66-a52c-26c8f92e4785",
   "metadata": {},
   "outputs": [
    {
     "name": "stdout",
     "output_type": "stream",
     "text": [
      "For read:-\n",
      "\n",
      "This is using append\n",
      "For readline:-\n",
      "\n",
      "\n",
      "For readlines:-\n",
      "['\\n', 'This is using append']\n"
     ]
    }
   ],
   "source": [
    "'''\n",
    "Q4. Explain the following with python code: read(), readline() and readlines().\n",
    "Ans. read:- This reads the file data.\n",
    "     readline:- This read single line.\n",
    "     readlines:- This reads multiple lines.\n",
    "'''\n",
    "\n",
    "f = open('assignment.txt', 'a')\n",
    "f.write(\"\\nThis is using append\")\n",
    "f.close()\n",
    "\n",
    "f = open('assignment.txt', 'r')\n",
    "\n",
    "print('For read:-')\n",
    "print(f.read())\n",
    "f.seek(0)\n",
    "print('For readline:-')\n",
    "print(f.readline())\n",
    "print(\"For readlines:-\")\n",
    "f.seek(0)\n",
    "print(f.readlines())\n",
    "f.close()   "
   ]
  },
  {
   "cell_type": "code",
   "execution_count": 22,
   "id": "a65f46d9-f9ad-4d0c-94b6-cd7bded3043d",
   "metadata": {},
   "outputs": [
    {
     "data": {
      "text/plain": [
       "'\\nQ5. Explain why with statement is used with open(). What is the advantage of using with statement and\\nopen() together?\\nAns. In Python, with statement is used in exception handling to make the code cleaner and much more readable.\\n     It simplifies the management of common resources like file streams. \\n     \\n     It also ensures proper execution like it closes the file by itself, thus reduces the chances of bug.\\n'"
      ]
     },
     "execution_count": 22,
     "metadata": {},
     "output_type": "execute_result"
    }
   ],
   "source": [
    "'''\n",
    "Q5. Explain why with statement is used with open(). What is the advantage of using with statement and\n",
    "open() together?\n",
    "Ans. In Python, with statement is used in exception handling to make the code cleaner and much more readable.\n",
    "     It simplifies the management of common resources like file streams. \n",
    "     \n",
    "     It also ensures proper execution like it closes the file by itself, thus reduces the chances of bug.\n",
    "'''"
   ]
  },
  {
   "cell_type": "code",
   "execution_count": 23,
   "id": "7ac8ffb9-0ae3-426e-8ffa-23d3a152b3c2",
   "metadata": {},
   "outputs": [
    {
     "data": {
      "text/plain": [
       "'\\nQ6. Explain the write() and writelines() functions. Give a suitable example.\\nAns. The only difference between the write() and writelines() is that write() is used \\n     to write a string to an already opened file while writelines() method is used to write a list of strings in an opened file.\\n'"
      ]
     },
     "execution_count": 23,
     "metadata": {},
     "output_type": "execute_result"
    }
   ],
   "source": [
    "'''\n",
    "Q6. Explain the write() and writelines() functions. Give a suitable example.\n",
    "Ans. The only difference between the write() and writelines() is that write() is used \n",
    "     to write a string to an already opened file while writelines() method is used to write a list of strings in an opened file.\n",
    "'''"
   ]
  }
 ],
 "metadata": {
  "kernelspec": {
   "display_name": "Python 3 (ipykernel)",
   "language": "python",
   "name": "python3"
  },
  "language_info": {
   "codemirror_mode": {
    "name": "ipython",
    "version": 3
   },
   "file_extension": ".py",
   "mimetype": "text/x-python",
   "name": "python",
   "nbconvert_exporter": "python",
   "pygments_lexer": "ipython3",
   "version": "3.10.8"
  }
 },
 "nbformat": 4,
 "nbformat_minor": 5
}
