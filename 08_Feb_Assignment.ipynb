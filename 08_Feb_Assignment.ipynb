{
 "cells": [
  {
   "cell_type": "code",
   "execution_count": 1,
   "id": "e0457b7c-edc4-4788-b392-0719957ca41e",
   "metadata": {},
   "outputs": [
    {
     "data": {
      "text/plain": [
       "\" Ans : Abstraction in OOPs means hiding the unnecessary data from the user, into abstract classes.\\n     Example:- When we go on a website we see only those functionalities that are meant to be accessible to the user, and\\n     can't access the backend parts of the website as it is absatracted from the users and restricted to the developers and\\n     the team.\\n\""
      ]
     },
     "execution_count": 1,
     "metadata": {},
     "output_type": "execute_result"
    }
   ],
   "source": [
    "## Que 1 :\n",
    "\"\"\" Ans : Abstraction in OOPs means hiding the unnecessary data from the user, into abstract classes.\n",
    "     Example:- When we go on a website we see only those functionalities that are meant to be accessible to the user, and\n",
    "     can't access the backend parts of the website as it is absatracted from the users and restricted to the developers and\n",
    "     the team.\n",
    "\"\"\""
   ]
  },
  {
   "cell_type": "code",
   "execution_count": 2,
   "id": "ac395169-d37f-43d4-a459-99ef0549aaba",
   "metadata": {},
   "outputs": [
    {
     "data": {
      "text/plain": [
       "' Abstraction:- 1. Abstraction is used for hiding the unwanted data and giving relevant\\n                    data.\\n                  2. It helps you focus on what the object does instead of how it does it.\\n                  3. Eg:- We can only see the outer body of the phone inner parts that make\\n                         it work are kept hidden.\\n    \\n    Encapsulation:- 1. Encapsulation means hiding the data into a single unit to protect \\n                       the data from the outside world.\\n                    2. It is basically hiding details into classes.\\n                    3. Eg:- When ever we want to use a functionality of any app those\\n                            stuff are kept encapsulated into the data file of that app\\n                            and can only be accessed by the one who has access to it.\\n'"
      ]
     },
     "execution_count": 2,
     "metadata": {},
     "output_type": "execute_result"
    }
   ],
   "source": [
    "## Que 2 : \n",
    "\"\"\" Abstraction:- 1. Abstraction is used for hiding the unwanted data and giving relevant\n",
    "                    data.\n",
    "                  2. It helps you focus on what the object does instead of how it does it.\n",
    "                  3. Eg:- We can only see the outer body of the phone inner parts that make\n",
    "                         it work are kept hidden.\n",
    "    \n",
    "    Encapsulation:- 1. Encapsulation means hiding the data into a single unit to protect \n",
    "                       the data from the outside world.\n",
    "                    2. It is basically hiding details into classes.\n",
    "                    3. Eg:- When ever we want to use a functionality of any app those\n",
    "                            stuff are kept encapsulated into the data file of that app\n",
    "                            and can only be accessed by the one who has access to it.\n",
    "\"\"\""
   ]
  },
  {
   "cell_type": "code",
   "execution_count": 3,
   "id": "69620d0c-917f-425c-a82f-761906287543",
   "metadata": {},
   "outputs": [
    {
     "data": {
      "text/plain": [
       "\" Ans.The 'abc' module in Python library provides the infrastructure for defining custom abstract base classes. 'abc' works\\n    by marking methods of the base class as abstract. This is done by @absttractmethod decorator. \\n    The main goal of the abstract base class is to provide a standardized way to test whether an object adheres to a given \\n    specification. It can also prevent any attempt to instantiate a subclass that doesn’t override a particular method in \\n    the superclass. And finally, using an abstract class, a class can derive identity from another class without any object\\n    inheritance. \""
      ]
     },
     "execution_count": 3,
     "metadata": {},
     "output_type": "execute_result"
    }
   ],
   "source": [
    "## Que 3 :\n",
    "\"\"\" Ans.The 'abc' module in Python library provides the infrastructure for defining custom abstract base classes. 'abc' works\n",
    "    by marking methods of the base class as abstract. This is done by @absttractmethod decorator. \n",
    "    The main goal of the abstract base class is to provide a standardized way to test whether an object adheres to a given \n",
    "    specification. It can also prevent any attempt to instantiate a subclass that doesn’t override a particular method in \n",
    "    the superclass. And finally, using an abstract class, a class can derive identity from another class without any object\n",
    "    inheritance. \"\"\""
   ]
  },
  {
   "cell_type": "code",
   "execution_count": 4,
   "id": "01cb9781-1632-4a66-a52c-26c8f92e4785",
   "metadata": {},
   "outputs": [
    {
     "data": {
      "text/plain": [
       "' Ans. Data Abstraction in Python can be achieved through creating abstract classes and inheriting them later. \\n     The classes that cannot be instantiated. This means that we cannot create objects of an abstract class and these are\\n     only meant to be inherited. Then an object of the derived class is used to access the features of the base class. \\n     These are specifically defined to lay a foundation of other classes that exhibit common behavior or characteristics.\\n    '"
      ]
     },
     "execution_count": 4,
     "metadata": {},
     "output_type": "execute_result"
    }
   ],
   "source": [
    "## Que 4 :\n",
    "\"\"\" Ans. Data Abstraction in Python can be achieved through creating abstract classes and inheriting them later. \n",
    "     The classes that cannot be instantiated. This means that we cannot create objects of an abstract class and these are\n",
    "     only meant to be inherited. Then an object of the derived class is used to access the features of the base class. \n",
    "     These are specifically defined to lay a foundation of other classes that exhibit common behavior or characteristics.\n",
    "    \"\"\""
   ]
  },
  {
   "cell_type": "code",
   "execution_count": 5,
   "id": "a65f46d9-f9ad-4d0c-94b6-cd7bded3043d",
   "metadata": {},
   "outputs": [
    {
     "data": {
      "text/plain": [
       "'Ans. Abstract classes are not complete, as they may have some methods that are not defined. So we cannot create an instance\\n     or object of an abstract class. Can you create an instance of an abstract class Python?\\n     An abstract class is a class, but not one you can create objects from directly. Its purpose is to define how other \\n     classes should look like, i.e. what methods and properties they are expected to have.'"
      ]
     },
     "execution_count": 5,
     "metadata": {},
     "output_type": "execute_result"
    }
   ],
   "source": [
    "## Que 5 :\n",
    "\"\"\"Ans. Abstract classes are not complete, as they may have some methods that are not defined. So we cannot create an instance\n",
    "     or object of an abstract class. Can you create an instance of an abstract class Python?\n",
    "     An abstract class is a class, but not one you can create objects from directly. Its purpose is to define how other \n",
    "     classes should look like, i.e. what methods and properties they are expected to have.\"\"\""
   ]
  }
 ],
 "metadata": {
  "kernelspec": {
   "display_name": "Python 3 (ipykernel)",
   "language": "python",
   "name": "python3"
  },
  "language_info": {
   "codemirror_mode": {
    "name": "ipython",
    "version": 3
   },
   "file_extension": ".py",
   "mimetype": "text/x-python",
   "name": "python",
   "nbconvert_exporter": "python",
   "pygments_lexer": "ipython3",
   "version": "3.10.8"
  }
 },
 "nbformat": 4,
 "nbformat_minor": 5
}
