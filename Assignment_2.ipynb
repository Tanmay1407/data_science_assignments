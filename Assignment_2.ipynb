{
 "cells": [
  {
   "cell_type": "code",
   "execution_count": 1,
   "id": "c8fe3338-116d-4779-881b-a1dfdae46282",
   "metadata": {},
   "outputs": [
    {
     "name": "stdin",
     "output_type": "stream",
     "text": [
      "Enter marks :  100\n"
     ]
    },
    {
     "name": "stdout",
     "output_type": "stream",
     "text": [
      "Grade A\n"
     ]
    }
   ],
   "source": [
    "#Email : tanmaypatel1407@gmail.com\n",
    "## ASSIGNMENT 2 : 30 JAN 23\n",
    "## Question 1 :\n",
    "marks = int(input(\"Enter marks : \"))\n",
    "if marks > 90:\n",
    "    print(\"Grade A\")\n",
    "elif marks > 80 and marks <=90:\n",
    "    print(\"Grade B\")\n",
    "elif marks >= 60 and marks <=80:\n",
    "    print(\"Grade C\")\n",
    "else :\n",
    "    print(\"Grade D\")"
   ]
  },
  {
   "cell_type": "code",
   "execution_count": 2,
   "id": "219071a6-438c-40a8-9bf4-46f491081784",
   "metadata": {},
   "outputs": [
    {
     "name": "stdin",
     "output_type": "stream",
     "text": [
      "Enter price :  12000\n"
     ]
    },
    {
     "name": "stdout",
     "output_type": "stream",
     "text": [
      "5%\n"
     ]
    }
   ],
   "source": [
    "## Question 2 :\n",
    "tax = int(input(\"Enter price : \"))\n",
    "if tax > 100000:\n",
    "    print(\"15%\")\n",
    "elif tax > 50000 and marks <=100000:\n",
    "    print(\"10%\")\n",
    "else : \n",
    "    print(\"5%\")"
   ]
  },
  {
   "cell_type": "code",
   "execution_count": null,
   "id": "e3bbe064-12cf-484e-8d78-b4ed3ce48ec9",
   "metadata": {},
   "outputs": [],
   "source": [
    "## Question 3 :\n",
    "city = str(input(\"Enter city : \")).lower()\n",
    "if city == \"delhi\":\n",
    "    print(\"Red Fort\")\n",
    "elif city == \"agra\":\n",
    "    print(\"Taj Mahal\")\n",
    "elif city == \"jaipur\" : \n",
    "    print(\"Jal Mahal\")\n",
    "else :\n",
    "    print(\"Not known\")"
   ]
  },
  {
   "cell_type": "code",
   "execution_count": 2,
   "id": "0b01c1b1-759d-4805-93a8-ec4cd64f297b",
   "metadata": {},
   "outputs": [
    {
     "name": "stdin",
     "output_type": "stream",
     "text": [
      "Enter number :  30\n"
     ]
    },
    {
     "name": "stdout",
     "output_type": "stream",
     "text": [
      "Ans :  2\n"
     ]
    }
   ],
   "source": [
    "## Question 4 :\n",
    "n = int(input(\"Enter number : \"))\n",
    "count = 0;\n",
    "while (n >= 10):\n",
    "    n = n/3\n",
    "    count += 1\n",
    "print(\"Ans : \",count)"
   ]
  },
  {
   "cell_type": "code",
   "execution_count": 3,
   "id": "75dd2abc-cd9f-4ebc-b62e-92829190688d",
   "metadata": {},
   "outputs": [
    {
     "data": {
      "text/plain": [
       "'\\nAns : While loop is used in python when number of iterations are NOT known or we can not pre judge that for how long will loop run.\\n\\n'"
      ]
     },
     "execution_count": 3,
     "metadata": {},
     "output_type": "execute_result"
    }
   ],
   "source": [
    "## Question 5 :\n",
    "\"\"\"\n",
    "Ans : While loop is used in python when number of iterations are NOT known or we can not pre judge that for how long will loop run.\n",
    "\n",
    "\"\"\""
   ]
  },
  {
   "cell_type": "code",
   "execution_count": 8,
   "id": "ff35d818-e2d6-45eb-87ca-840d78f2e96f",
   "metadata": {},
   "outputs": [
    {
     "name": "stdout",
     "output_type": "stream",
     "text": [
      "*\n",
      "*\n",
      "*\n",
      "*\n",
      "*\n",
      "-----\n",
      "*\n",
      "*\n",
      "*\n",
      "*\n",
      "-----\n",
      "*\n",
      "*\n",
      "*\n",
      "-----\n",
      "*\n",
      "*\n",
      "-----\n",
      "*\n",
      "-----\n"
     ]
    }
   ],
   "source": [
    "## Question 6 :\n",
    "\n",
    "## Pattern 1 :\n",
    "i = 5\n",
    "while i > 0:\n",
    "    j = i\n",
    "    while j > 0:\n",
    "        print(\"*\")\n",
    "        j -= 1\n",
    "    print(\"-----\")\n",
    "    i -= 1"
   ]
  },
  {
   "cell_type": "code",
   "execution_count": 9,
   "id": "1f7eae4a-d999-4581-b513-f21e4b7ed1b0",
   "metadata": {},
   "outputs": [
    {
     "name": "stdout",
     "output_type": "stream",
     "text": [
      "*\n",
      "-----\n",
      "*\n",
      "*\n",
      "-----\n",
      "*\n",
      "*\n",
      "*\n",
      "-----\n",
      "*\n",
      "*\n",
      "*\n",
      "*\n",
      "-----\n"
     ]
    }
   ],
   "source": [
    "## Pattern 2 :\n",
    "i = 1\n",
    "while i < 5:\n",
    "    j = i\n",
    "    while j > 0:\n",
    "        print(\"*\")\n",
    "        j -= 1\n",
    "    print(\"-----\")\n",
    "    i += 1"
   ]
  },
  {
   "cell_type": "code",
   "execution_count": 11,
   "id": "fd857bc3-7cfe-4def-9b06-8e4eaec77912",
   "metadata": {},
   "outputs": [
    {
     "name": "stdout",
     "output_type": "stream",
     "text": [
      "1 \n",
      "3 3 \n",
      "5 5 5 \n",
      "7 7 7 7 \n",
      "9 9 9 9 9 \n"
     ]
    }
   ],
   "source": [
    "## Pattern 3 :\n",
    "rows = 5\n",
    "i = 1\n",
    "while i <= rows:\n",
    "    j = 1\n",
    "    while j <= i:\n",
    "        print((i * 2 - 1), end=\" \")\n",
    "        j = j + 1\n",
    "    i = i + 1\n",
    "    print('')"
   ]
  },
  {
   "cell_type": "code",
   "execution_count": 13,
   "id": "5c9024f5-845d-4335-b6cf-b8c26658811b",
   "metadata": {},
   "outputs": [
    {
     "name": "stdout",
     "output_type": "stream",
     "text": [
      "10\n",
      "9\n",
      "8\n",
      "7\n",
      "6\n",
      "5\n",
      "4\n",
      "3\n",
      "2\n",
      "1\n"
     ]
    }
   ],
   "source": [
    "## Question 7 == 8 [Same]\n",
    "i = 10\n",
    "while i > 0:\n",
    "    print(i)\n",
    "    i -= 1"
   ]
  },
  {
   "cell_type": "code",
   "execution_count": null,
   "id": "688cc48f-40a4-4030-a0d7-4d1938f06339",
   "metadata": {},
   "outputs": [],
   "source": []
  }
 ],
 "metadata": {
  "kernelspec": {
   "display_name": "Python 3 (ipykernel)",
   "language": "python",
   "name": "python3"
  },
  "language_info": {
   "codemirror_mode": {
    "name": "ipython",
    "version": 3
   },
   "file_extension": ".py",
   "mimetype": "text/x-python",
   "name": "python",
   "nbconvert_exporter": "python",
   "pygments_lexer": "ipython3",
   "version": "3.10.8"
  }
 },
 "nbformat": 4,
 "nbformat_minor": 5
}
