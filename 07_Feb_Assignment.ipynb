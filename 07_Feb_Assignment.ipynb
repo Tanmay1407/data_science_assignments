{
 "cells": [
  {
   "cell_type": "code",
   "execution_count": 4,
   "id": "6c14e6be-46c8-49c0-847c-d312609bb09d",
   "metadata": {},
   "outputs": [
    {
     "name": "stdin",
     "output_type": "stream",
     "text": [
      "Enter Password :  TT&8%$nnpr\n"
     ]
    },
    {
     "data": {
      "text/plain": [
       "'Valid Password'"
      ]
     },
     "execution_count": 4,
     "metadata": {},
     "output_type": "execute_result"
    }
   ],
   "source": [
    "## QUE 1 :\n",
    "p = input(\"Enter Password : \")\n",
    "\n",
    "def validatePassword(p) :\n",
    "    if len(p) != 10 :\n",
    "        return \"Invalid Password\"\n",
    "    else :\n",
    "        lCnt = 0\n",
    "        uCnt = 0\n",
    "        nCnt = 0\n",
    "        sCnt = 0\n",
    "        for i in p :\n",
    "            if i.isnumeric() :\n",
    "                nCnt += 1\n",
    "            elif i.isupper() : \n",
    "                uCnt += 1\n",
    "            elif i.islower() :\n",
    "                lCnt += 1\n",
    "            else : sCnt += 1;\n",
    "        if (uCnt >= 2 and lCnt >= 2 and nCnt >= 1 and sCnt >= 3) :\n",
    "            return \"Valid Password\"\n",
    "        else : \n",
    "            return \"Invalid Password\"\n",
    "        \n",
    "validatePassword(p)\n",
    "        "
   ]
  },
  {
   "cell_type": "code",
   "execution_count": 5,
   "id": "f8d433e0-3089-4596-9320-4e2b3109cfa9",
   "metadata": {},
   "outputs": [
    {
     "data": {
      "text/plain": [
       "'YES'"
      ]
     },
     "execution_count": 5,
     "metadata": {},
     "output_type": "execute_result"
    }
   ],
   "source": [
    "## Que 2 :\n",
    "s = \"tanmay\"\n",
    "# checking if s starts with letter : 't'\n",
    "check = lambda s : \"YES\" if s[0] == 't' else \"NO\"\n",
    "check(s)"
   ]
  },
  {
   "cell_type": "code",
   "execution_count": 8,
   "id": "4d980e77-0f03-4066-bf44-db02c1260374",
   "metadata": {},
   "outputs": [
    {
     "data": {
      "text/plain": [
       "'YES'"
      ]
     },
     "execution_count": 8,
     "metadata": {},
     "output_type": "execute_result"
    }
   ],
   "source": [
    "s = \"101\"\n",
    "# checking if s is numeric\n",
    "check = lambda s : \"YES\" if s.isnumeric() else \"NO\"\n",
    "check(s)"
   ]
  },
  {
   "cell_type": "code",
   "execution_count": 11,
   "id": "ed428aac-54c3-495f-8123-17c540857377",
   "metadata": {},
   "outputs": [
    {
     "data": {
      "text/plain": [
       "[('orange', 80), ('mango', 99), ('grapes', 1000)]"
      ]
     },
     "execution_count": 11,
     "metadata": {},
     "output_type": "execute_result"
    }
   ],
   "source": [
    "t = [(\"mango\",99),(\"orange\",80), (\"grapes\", 1000)]\n",
    "t.sort(key = lambda x : x[1])\n",
    "t"
   ]
  },
  {
   "cell_type": "code",
   "execution_count": 14,
   "id": "d6bff269-1ace-47c2-acd7-28f8c2a05ba9",
   "metadata": {},
   "outputs": [
    {
     "data": {
      "text/plain": [
       "[1, 4, 9, 16, 25, 36, 49, 64, 81, 100]"
      ]
     },
     "execution_count": 14,
     "metadata": {},
     "output_type": "execute_result"
    }
   ],
   "source": [
    "l = list(range(1,11))\n",
    "sqr = lambda x : x**2\n",
    "\n",
    "l = list(map(sqr,l))\n",
    "l"
   ]
  },
  {
   "cell_type": "code",
   "execution_count": 15,
   "id": "5199078e-0052-483d-970e-dafd474432cb",
   "metadata": {},
   "outputs": [
    {
     "data": {
      "text/plain": [
       "[1, 8, 27, 64, 125, 216, 343, 512, 729, 1000]"
      ]
     },
     "execution_count": 15,
     "metadata": {},
     "output_type": "execute_result"
    }
   ],
   "source": [
    "l = list(range(1,11))\n",
    "sqr = lambda x : x**3\n",
    "\n",
    "l = list(map(sqr,l))\n",
    "l"
   ]
  },
  {
   "cell_type": "code",
   "execution_count": 18,
   "id": "f49a2cc4-210b-4328-a0b8-031b2efb2b1e",
   "metadata": {},
   "outputs": [
    {
     "data": {
      "text/plain": [
       "'YES'"
      ]
     },
     "execution_count": 18,
     "metadata": {},
     "output_type": "execute_result"
    }
   ],
   "source": [
    "isEven = lambda x : \"YES\" if x%2 == 0 else \"NO\"\n",
    "isEven(30)"
   ]
  },
  {
   "cell_type": "code",
   "execution_count": 20,
   "id": "a0ac27c5-cb41-49b4-92c8-031e6445d03d",
   "metadata": {},
   "outputs": [
    {
     "data": {
      "text/plain": [
       "[1, 3, 5, 7, 9]"
      ]
     },
     "execution_count": 20,
     "metadata": {},
     "output_type": "execute_result"
    }
   ],
   "source": [
    "isOdd = lambda x : False if x%2 == 0 else True\n",
    "l = list(range(1,11))\n",
    "l = list(filter(isOdd,l))\n",
    "l"
   ]
  },
  {
   "cell_type": "code",
   "execution_count": 21,
   "id": "ce223e29-30a3-4973-a109-2c493febc4d4",
   "metadata": {},
   "outputs": [
    {
     "data": {
      "text/plain": [
       "[1, 2, 3, 4, 5, 6, 0]"
      ]
     },
     "execution_count": 21,
     "metadata": {},
     "output_type": "execute_result"
    }
   ],
   "source": [
    "l = [1,2,3,4,5,6,-1,-2,-3,-4,-5,0]\n",
    "isPos = lambda x : True if x >= 0 else False\n",
    "isNeg = lambda x : False if x >= 0 else True\n",
    "\n",
    "posList = list(filter(isPos,l))\n",
    "posList"
   ]
  },
  {
   "cell_type": "code",
   "execution_count": 22,
   "id": "e928ec10-8672-4b28-843b-1bfddfd52bcd",
   "metadata": {},
   "outputs": [
    {
     "data": {
      "text/plain": [
       "[-1, -2, -3, -4, -5]"
      ]
     },
     "execution_count": 22,
     "metadata": {},
     "output_type": "execute_result"
    }
   ],
   "source": [
    "negList = list(filter(isNeg,l))\n",
    "negList"
   ]
  },
  {
   "cell_type": "code",
   "execution_count": null,
   "id": "9ea89035-8e5b-488a-a86f-10dc3adcb219",
   "metadata": {},
   "outputs": [],
   "source": []
  }
 ],
 "metadata": {
  "kernelspec": {
   "display_name": "Python 3 (ipykernel)",
   "language": "python",
   "name": "python3"
  },
  "language_info": {
   "codemirror_mode": {
    "name": "ipython",
    "version": 3
   },
   "file_extension": ".py",
   "mimetype": "text/x-python",
   "name": "python",
   "nbconvert_exporter": "python",
   "pygments_lexer": "ipython3",
   "version": "3.10.8"
  }
 },
 "nbformat": 4,
 "nbformat_minor": 5
}
