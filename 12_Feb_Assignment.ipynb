{
 "cells": [
  {
   "cell_type": "code",
   "execution_count": 24,
   "id": "1f960834-a7dd-447c-aa8e-0893b0712573",
   "metadata": {},
   "outputs": [
    {
     "data": {
      "text/plain": [
       "\" Ans : An exception is an event, which occurs during the execution of a program that\\ndisrupts the normal flow of the program's instructions.\\nErrors are the problems in a program due to which the program will stop the execution.\\nOn the other hand, exceptions are raised when some internal events occur which changes the normal \\nflow of the program. \""
      ]
     },
     "execution_count": 24,
     "metadata": {},
     "output_type": "execute_result"
    }
   ],
   "source": [
    "## Que 1 :\n",
    "\"\"\" Ans : An exception is an event, which occurs during the execution of a program that\n",
    "disrupts the normal flow of the program's instructions.\n",
    "Errors are the problems in a program due to which the program will stop the execution.\n",
    "On the other hand, exceptions are raised when some internal events occur which changes the normal \n",
    "flow of the program. \"\"\""
   ]
  },
  {
   "cell_type": "code",
   "execution_count": 25,
   "id": "40521e1e-0c5d-4e12-9288-b3edbe12bd43",
   "metadata": {},
   "outputs": [
    {
     "ename": "ZeroDivisionError",
     "evalue": "division by zero",
     "output_type": "error",
     "traceback": [
      "\u001b[0;31m---------------------------------------------------------------------------\u001b[0m",
      "\u001b[0;31mZeroDivisionError\u001b[0m                         Traceback (most recent call last)",
      "Cell \u001b[0;32mIn[25], line 6\u001b[0m\n\u001b[1;32m      2\u001b[0m \u001b[38;5;124;03m\"\"\" Ans : If an exception is not caught, \u001b[39;00m\n\u001b[1;32m      3\u001b[0m \u001b[38;5;124;03mthe runtime system will abort the program (i.e. crash) and an exception message will print to the console.\u001b[39;00m\n\u001b[1;32m      4\u001b[0m \u001b[38;5;124;03m\"\"\"\u001b[39;00m\n\u001b[1;32m      5\u001b[0m \u001b[38;5;66;03m# Example : \u001b[39;00m\n\u001b[0;32m----> 6\u001b[0m a \u001b[38;5;241m=\u001b[39m \u001b[38;5;241;43m3\u001b[39;49m\u001b[38;5;241;43m/\u001b[39;49m\u001b[38;5;241;43m0\u001b[39;49m\n",
      "\u001b[0;31mZeroDivisionError\u001b[0m: division by zero"
     ]
    }
   ],
   "source": [
    "## Que 2 :\n",
    "\"\"\" Ans : If an exception is not caught, \n",
    "the runtime system will abort the program (i.e. crash) and an exception message will print to the console.\n",
    "\"\"\"\n",
    "# Example : Unhandled exception \n",
    "a = 3/0"
   ]
  },
  {
   "cell_type": "code",
   "execution_count": 27,
   "id": "ee5419e6-4a28-4b33-93a7-5a5240cf3a91",
   "metadata": {},
   "outputs": [
    {
     "name": "stdout",
     "output_type": "stream",
     "text": [
      "Error is: division by zero\n"
     ]
    }
   ],
   "source": [
    "# With exception handeling :\n",
    "try : \n",
    "    a = 4/0\n",
    "except ZeroDivisionError as e :\n",
    "    print(\"Error is:\",e)\n",
    "    "
   ]
  },
  {
   "cell_type": "code",
   "execution_count": 28,
   "id": "1c9492fc-a9f4-40f3-9e72-b4786cabe76c",
   "metadata": {},
   "outputs": [
    {
     "name": "stdout",
     "output_type": "stream",
     "text": [
      "Error is: division by zero\n"
     ]
    }
   ],
   "source": [
    "## Que 3 :\n",
    "\"\"\" Ans : The try and except block in Python is used to catch and handle exceptions.\n",
    "Python executes code the try statement as a “normal” part of the program.\n",
    "The code that follows the except statement is the program’s response to any exceptions in the preceding try claus\n",
    "\"\"\"\n",
    "\n",
    "# Example : \n",
    "try : \n",
    "    a = 4/0\n",
    "except ZeroDivisionError as e :\n",
    "    print(\"Error is:\",e)\n",
    "    "
   ]
  },
  {
   "cell_type": "code",
   "execution_count": 29,
   "id": "0dadedc5-3c69-4651-b2a6-e3aafb8fc4a9",
   "metadata": {},
   "outputs": [
    {
     "name": "stdout",
     "output_type": "stream",
     "text": [
      "This runs if try is successfully executed\n",
      "This will execute in any condition\n"
     ]
    }
   ],
   "source": [
    "## Que 4 :\n",
    "\"\"\" Example for : try and else , finally & raise \"\"\"\n",
    "try :\n",
    "    with open(\"myFile\", 'w') as f:\n",
    "        f.write(\"This is my new file content\")\n",
    "except Exception as e :\n",
    "    print(\"This is Exception\",e)\n",
    "else :\n",
    "    print(\"This runs if try is successfully executed\")\n",
    "    \n",
    "finally :\n",
    "    print(\"This will execute in any condition\")\n",
    "    f.close() # like db close etc."
   ]
  },
  {
   "cell_type": "code",
   "execution_count": 32,
   "id": "223867d9-e416-4d07-a875-22ae78906aa5",
   "metadata": {},
   "outputs": [
    {
     "name": "stdin",
     "output_type": "stream",
     "text": [
      "Enter a number:  14\n"
     ]
    },
    {
     "name": "stdout",
     "output_type": "stream",
     "text": [
      "Exception occurred: Invalid Age\n"
     ]
    }
   ],
   "source": [
    "## Que 5 :\n",
    "\"\"\"Ans : In Python, we can define custom exceptions by creating a new class that is\n",
    "derived from the built-in Exception class.\n",
    "We need custom exception to handle the conditions which are not defined in Exception class\n",
    "\"\"\"\n",
    "\n",
    "class InvalidAgeException(Exception):\n",
    "    \"Raised when the input value is less than 18\"\n",
    "    pass\n",
    "\n",
    "number = 18\n",
    "\n",
    "try:\n",
    "    input_num = int(input(\"Enter a number: \"))\n",
    "    if input_num < number:\n",
    "        raise InvalidAgeException\n",
    "    else:\n",
    "        print(\"Eligible to Vote\")\n",
    "        \n",
    "except InvalidAgeException:\n",
    "    print(\"Exception occurred: Invalid Age\")"
   ]
  },
  {
   "cell_type": "code",
   "execution_count": 31,
   "id": "1c3d363c-d508-413d-9e4f-640d438869af",
   "metadata": {},
   "outputs": [
    {
     "name": "stdin",
     "output_type": "stream",
     "text": [
      "Enter age :  -7\n"
     ]
    },
    {
     "name": "stdout",
     "output_type": "stream",
     "text": [
      "Invalid/Negative age\n"
     ]
    }
   ],
   "source": [
    "## Que 6 :\n",
    "## CUSTOM EXCEPTION : \n",
    "class AgeException(Exception) :\n",
    "    \n",
    "    def __int__(self,message) :\n",
    "        self.message = message\n",
    "\n",
    "def canVote(age) :\n",
    "    if age <= 0 :\n",
    "        raise AgeException(\"Invalid/Negative age\")\n",
    "    elif age >0 and age < 18 :\n",
    "        print(\"Cannot vote.\")\n",
    "    else :\n",
    "        print(\"Can vote.\")\n",
    "        \n",
    "try :\n",
    "    a = int(input(\"Enter age : \"))\n",
    "    canVote(a)\n",
    "except AgeException as e :\n",
    "    print(e)"
   ]
  },
  {
   "cell_type": "code",
   "execution_count": null,
   "id": "742f7a5b-4e2b-4149-9c79-584d0f168d97",
   "metadata": {},
   "outputs": [],
   "source": []
  }
 ],
 "metadata": {
  "kernelspec": {
   "display_name": "Python 3 (ipykernel)",
   "language": "python",
   "name": "python3"
  },
  "language_info": {
   "codemirror_mode": {
    "name": "ipython",
    "version": 3
   },
   "file_extension": ".py",
   "mimetype": "text/x-python",
   "name": "python",
   "nbconvert_exporter": "python",
   "pygments_lexer": "ipython3",
   "version": "3.10.8"
  }
 },
 "nbformat": 4,
 "nbformat_minor": 5
}
