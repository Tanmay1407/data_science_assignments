{
 "cells": [
  {
   "cell_type": "code",
   "execution_count": null,
   "id": "64e3c54b-d8ba-4b2c-a775-15d909ff9941",
   "metadata": {},
   "outputs": [],
   "source": [
    "##Email : tanmaypatel1407@gmail.com\n",
    "## ASSIGNMENT 29/01/23\n",
    "\n",
    "'''\n",
    "Q1.Ans: Guido van Rossum was the developer of Python.\n",
    "Q2.Ans: Python supports object-oriented, functional as well as structured programming.\n",
    "Q3.Ans: Yes, Python is case sensitive when dealing with Identifiers.\n",
    "Q4.Ans: \".py\" extension is the most appropriate extension of Python file.\n",
    "Q5.Ans: The python code is Interpreted by the interpreter and is compiled and then interpreted by the Interpreter line by line.\n",
    "Q6.Ans: Some code blocks by name are:- a module, a function body.\n",
    "Q7.Ans: We use \"#\" to comment a line in python.\n",
    "Q8.Ans: One can execute \"python --version \" to check the current version of python in the machine.\n",
    "Q9.Ans: Python supports the creation of anonymous functions at runtime, using a construct called lambda. \n",
    "Q10.Ans: PIP stands for Preffered Installer Program\n",
    "Q11.Ans: few buitin functions in python are , pop(), insert(x, y), len(), etc.\n",
    "Q12.Ans: An identifier can have a maximum length of 79 characters in Python.\n",
    "Q13.Ans: Python programming language is a general-purpose, interpreted, and high-level language that mainly offers code readability\n",
    "     and has various applications in data science, ai, ml, web development.\n",
    "Q14.Ans: Memory management in Python involves a private heap that is managed by Python Memmory Manager.\n",
    "Q15.Ans: First we need to install python from its website then to set path variables. We can add Python to Path manually in Windows by opening the Control Panel and selecting System and Security. \n",
    "     Then choose System. Click Advanced System Settings.\n",
    "     Then click Environment Variables under the Advanced tab. \n",
    "     Under the System variables, select the Path variable and click Edit.\n",
    "Q16.Ans: Yes, python requires indentation.'''"
   ]
  }
 ],
 "metadata": {
  "kernelspec": {
   "display_name": "Python 3 (ipykernel)",
   "language": "python",
   "name": "python3"
  },
  "language_info": {
   "codemirror_mode": {
    "name": "ipython",
    "version": 3
   },
   "file_extension": ".py",
   "mimetype": "text/x-python",
   "name": "python",
   "nbconvert_exporter": "python",
   "pygments_lexer": "ipython3",
   "version": "3.10.8"
  }
 },
 "nbformat": 4,
 "nbformat_minor": 5
}
