{
 "cells": [
  {
   "cell_type": "code",
   "execution_count": 16,
   "id": "e0457b7c-edc4-4788-b392-0719957ca41e",
   "metadata": {},
   "outputs": [
    {
     "name": "stdout",
     "output_type": "stream",
     "text": [
      "25\n",
      "200\n",
      "25\n"
     ]
    }
   ],
   "source": [
    "'''\n",
    "Q1, Create a vehicle class with an init method having instance variables as name_of_vehicle, max_speed\n",
    "and average_of_vehicle.\n",
    "'''\n",
    "\n",
    "class vehicle:\n",
    "    def __init__(self, name_of_vehicle, max_speed, average_of_vehicle):\n",
    "        self.name_of_vehicle = name_of_vehicle\n",
    "        self.max_speed = max_speed\n",
    "        self.average_of_vehicle = average_of_vehicle\n",
    "        \n",
    "v1 = vehicle('BMW', 200, 25)\n",
    "\n",
    "print(v1.average_of_vehicle)\n",
    "print(v1.max_speed)\n",
    "print(v1.average_of_vehicle)"
   ]
  },
  {
   "cell_type": "code",
   "execution_count": 17,
   "id": "ac395169-d37f-43d4-a459-99ef0549aaba",
   "metadata": {},
   "outputs": [
    {
     "name": "stdout",
     "output_type": "stream",
     "text": [
      "The name of this car is:  Nexon\n",
      "The seating capacity of this car is:  5\n"
     ]
    }
   ],
   "source": [
    "\n",
    "'''\n",
    "Q2. Create a child class car from the vehicle class created in Que 1, which will inherit the vehicle class.\n",
    "Create a method named seating_capacity which takes capacity as an argument and returns the name of\n",
    "the vehicle and its seating capacity.\n",
    "'''\n",
    "\n",
    "class child(vehicle):\n",
    "    def __init__(self, car_name):\n",
    "        self.car_name = car_name\n",
    "        \n",
    "    def seating_capacity(self, capacity):\n",
    "        print('The name of this car is: ', self.car_name)\n",
    "        print('The seating capacity of this car is: ', capacity)\n",
    "        \n",
    "c1 = child('Nexon')\n",
    "c1.seating_capacity(5)"
   ]
  },
  {
   "cell_type": "code",
   "execution_count": 8,
   "id": "69620d0c-917f-425c-a82f-761906287543",
   "metadata": {},
   "outputs": [
    {
     "name": "stdout",
     "output_type": "stream",
     "text": [
      "This is method1.\n",
      "This is method2.\n",
      "This is method3.\n"
     ]
    }
   ],
   "source": [
    "'''\n",
    "Q3. What is multiple inheritance? Write a python code to demonstrate multiple inheritance.\n",
    "'''\n",
    "\n",
    "class test1:\n",
    "    def method1(self):\n",
    "        print(\"This is method1.\")\n",
    "\n",
    "class test2:\n",
    "    def method2(self):\n",
    "        print(\"This is method2.\")\n",
    "        \n",
    "class test3(test1, test2):\n",
    "    def method3(self):\n",
    "        print(\"This is method3.\")\n",
    "        \n",
    "t1 = test3()\n",
    "t1.method1()\n",
    "t1.method2()\n",
    "t1.method3()"
   ]
  },
  {
   "cell_type": "code",
   "execution_count": 9,
   "id": "01cb9781-1632-4a66-a52c-26c8f92e4785",
   "metadata": {},
   "outputs": [],
   "source": [
    "'''\n",
    "Q4. What are getter and setter in python? Create a class and create a getter and a setter method in this\n",
    "class.\n",
    "Ans:- Getter and Setter function are used for private variables.\n",
    "      Setter function is used for assigning the value to the private variable.\n",
    "      Getter function is used for accessing the private variable.\n",
    "'''\n",
    "\n",
    "class Test:\n",
    "    def __init__(self, name, no):\n",
    "        self.name = name\n",
    "        self.__no = no\n",
    "        \n",
    "# getter function        \n",
    "    @property\n",
    "    def no_access(self):\n",
    "        return self.__no\n",
    "      \n",
    "# setter function\n",
    "    @no_access.setter\n",
    "    def no_setter(self, no1):\n",
    "        self.__no = no1\n",
    "    "
   ]
  },
  {
   "cell_type": "code",
   "execution_count": 10,
   "id": "a65f46d9-f9ad-4d0c-94b6-cd7bded3043d",
   "metadata": {},
   "outputs": [],
   "source": [
    "t1 = Test(\"Test1\", 1001)"
   ]
  },
  {
   "cell_type": "code",
   "execution_count": 11,
   "id": "7ac8ffb9-0ae3-426e-8ffa-23d3a152b3c2",
   "metadata": {},
   "outputs": [
    {
     "data": {
      "text/plain": [
       "'Test1'"
      ]
     },
     "execution_count": 11,
     "metadata": {},
     "output_type": "execute_result"
    }
   ],
   "source": [
    "t1.name"
   ]
  },
  {
   "cell_type": "code",
   "execution_count": 12,
   "id": "6b7b3e1e-aa8b-4f37-881d-a7fd12a03f91",
   "metadata": {},
   "outputs": [
    {
     "data": {
      "text/plain": [
       "1001"
      ]
     },
     "execution_count": 12,
     "metadata": {},
     "output_type": "execute_result"
    }
   ],
   "source": [
    "t1.no_access"
   ]
  },
  {
   "cell_type": "code",
   "execution_count": 13,
   "id": "e78c459c-f387-4e34-8d78-e217979dc9e8",
   "metadata": {},
   "outputs": [],
   "source": [
    "t1.no_setter=1100"
   ]
  },
  {
   "cell_type": "code",
   "execution_count": 14,
   "id": "e335e6f3-6018-4c71-b60b-3736064a98ae",
   "metadata": {},
   "outputs": [
    {
     "data": {
      "text/plain": [
       "1100"
      ]
     },
     "execution_count": 14,
     "metadata": {},
     "output_type": "execute_result"
    }
   ],
   "source": [
    "t1.no_access"
   ]
  },
  {
   "cell_type": "code",
   "execution_count": 15,
   "id": "48ede7f9-c666-4b63-b8fb-40b6bb446bfe",
   "metadata": {},
   "outputs": [
    {
     "name": "stdout",
     "output_type": "stream",
     "text": [
      "This is parent class method.\n",
      "This is child class method.\n"
     ]
    }
   ],
   "source": [
    "'''\n",
    "Q5.What is method overriding in python? Write a python code to demonstrate method overriding.\n",
    "Ans. Method overriding is a feature of object-oriented programming languages where the subclass \n",
    "     or child class can provide the program with specific characteristics or a specific implementation\n",
    "     process of data provided that are already defined in the parent class or superclass.\n",
    "'''\n",
    "\n",
    "class parent:\n",
    "    def show(self):\n",
    "        print('This is parent class method.')\n",
    "        \n",
    "class child(parent):\n",
    "    def show(self):\n",
    "        print('This is child class method.')\n",
    "\n",
    "p1 = parent()\n",
    "c1 = child()\n",
    "\n",
    "p1.show()\n",
    "c1.show()"
   ]
  },
  {
   "cell_type": "code",
   "execution_count": null,
   "id": "8ba6dd15-fc9a-4123-a6c4-a4cef0feea6e",
   "metadata": {},
   "outputs": [],
   "source": []
  }
 ],
 "metadata": {
  "kernelspec": {
   "display_name": "Python 3 (ipykernel)",
   "language": "python",
   "name": "python3"
  },
  "language_info": {
   "codemirror_mode": {
    "name": "ipython",
    "version": 3
   },
   "file_extension": ".py",
   "mimetype": "text/x-python",
   "name": "python",
   "nbconvert_exporter": "python",
   "pygments_lexer": "ipython3",
   "version": "3.10.8"
  }
 },
 "nbformat": 4,
 "nbformat_minor": 5
}
