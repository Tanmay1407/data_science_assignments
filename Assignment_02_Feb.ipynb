{
 "cells": [
  {
   "cell_type": "code",
   "execution_count": 1,
   "id": "99db9559-94f8-46ca-96ee-f293e7c1d3f4",
   "metadata": {},
   "outputs": [
    {
     "name": "stdout",
     "output_type": "stream",
     "text": [
      "audi\n",
      "vw\n",
      "tata\n",
      "kia\n"
     ]
    }
   ],
   "source": [
    "## Que : 1\n",
    "\"\"\" for-loop is used when we know the number of iterations ahead of time \n",
    "i.e. to iterate a list, tuple or string\"\"\"\n",
    "## Example : \n",
    "cars = [\"audi\", \"vw\", \"tata\", \"kia\"]\n",
    "\n",
    "for car in cars :\n",
    "    print(car)"
   ]
  },
  {
   "cell_type": "code",
   "execution_count": 2,
   "id": "e0279782-3191-4379-abc9-caf1b6db742c",
   "metadata": {},
   "outputs": [
    {
     "name": "stdout",
     "output_type": "stream",
     "text": [
      "Value of c is : 4\n",
      "Value of c is : 3\n",
      "Value of c is : 2\n",
      "Value of c is : 1\n"
     ]
    }
   ],
   "source": [
    "\"\"\" while-loop is used when no. of iterations are not known and need to run a loop until a certain condition is met \"\"\"\n",
    "## Example \" \n",
    "c = 4\n",
    "while c > 0 :\n",
    "    print(\"Value of c is :\",c)\n",
    "    c -= 1"
   ]
  },
  {
   "cell_type": "code",
   "execution_count": 4,
   "id": "66807e59-373e-4941-abf2-4f28cdba0124",
   "metadata": {},
   "outputs": [
    {
     "name": "stdout",
     "output_type": "stream",
     "text": [
      "SUM : 55\n",
      "Product : 3628800\n"
     ]
    }
   ],
   "source": [
    "# Que : 2\n",
    "## Using a for loop :\n",
    "sumation,product = 0,1\n",
    "\n",
    "for i in range(1,11) :\n",
    "    sumation += i\n",
    "    product *= i\n",
    "    \n",
    "print(\"SUM :\",sumation)\n",
    "print(\"Product :\",product)"
   ]
  },
  {
   "cell_type": "code",
   "execution_count": 2,
   "id": "325f68eb-c8c3-4fe4-9722-50bde087645c",
   "metadata": {},
   "outputs": [
    {
     "name": "stdout",
     "output_type": "stream",
     "text": [
      "SUM : 55\n",
      "Product : 3628800\n"
     ]
    }
   ],
   "source": [
    "## Using a while loop :\n",
    "sumation,product = 0,1\n",
    "i = 1\n",
    "while i <= 10 :\n",
    "    sumation += i\n",
    "    product *= i\n",
    "    i+= 1\n",
    "    \n",
    "print(\"SUM :\",sumation)\n",
    "print(\"Product :\",product)"
   ]
  },
  {
   "cell_type": "code",
   "execution_count": 5,
   "id": "2ed5619b-9f54-4b56-a3f4-d090e2d00b79",
   "metadata": {},
   "outputs": [
    {
     "name": "stdin",
     "output_type": "stream",
     "text": [
      "Enter units consumed :  310\n"
     ]
    },
    {
     "name": "stdout",
     "output_type": "stream",
     "text": [
      "Electricity bill: Rs. 2250.0\n"
     ]
    }
   ],
   "source": [
    "## Que : 3\n",
    "units = int(input(\"Enter units consumed : \"))\n",
    "def electricity_bill(units):\n",
    "    bill = 0\n",
    "    if units <= 100:\n",
    "        bill = units * 4.5\n",
    "    elif units <= 200:\n",
    "        bill = 100 * 4.5 + (units - 100) * 6\n",
    "    elif units <= 300:\n",
    "        bill = 100 * 4.5 + 100 * 6 + (units - 200) * 10\n",
    "    else:\n",
    "        bill = 100 * 4.5 + 100 * 6 + 100 * 10 + (units - 300) * 20\n",
    "    return bill\n",
    "\n",
    "print(\"Electricity bill: Rs.\", electricity_bill(units))\n"
   ]
  },
  {
   "cell_type": "code",
   "execution_count": 9,
   "id": "76d667da-37a9-43df-ba10-5885a5e17639",
   "metadata": {},
   "outputs": [
    {
     "name": "stdout",
     "output_type": "stream",
     "text": [
      "[2, 4, 5, 6, 8, 10, 12, 14, 15, 16, 18, 20, 22, 24, 25, 26, 28, 30, 32, 34, 35, 36, 38, 40, 42, 44, 45, 46, 48, 50, 52, 54, 55, 56, 58, 60, 62, 64, 65, 66, 68, 70, 72, 74, 75, 76, 78, 80, 82, 84, 85, 86, 88, 90, 92, 94, 95, 96, 98, 100]\n"
     ]
    }
   ],
   "source": [
    "## Que : 4\n",
    "## Using for-loop :\n",
    "cubes = []\n",
    "for i in range(1, 101):\n",
    "    cube = i**3\n",
    "    if cube % 4 == 0 or cube % 5 == 0:\n",
    "        cubes.append(i)\n",
    "print(cubes)"
   ]
  },
  {
   "cell_type": "code",
   "execution_count": 10,
   "id": "437abcbc-b974-4812-8567-ac5e228bd713",
   "metadata": {},
   "outputs": [
    {
     "name": "stdout",
     "output_type": "stream",
     "text": [
      "[2, 4, 5, 6, 8, 10, 12, 14, 15, 16, 18, 20, 22, 24, 25, 26, 28, 30, 32, 34, 35, 36, 38, 40, 42, 44, 45, 46, 48, 50, 52, 54, 55, 56, 58, 60, 62, 64, 65, 66, 68, 70, 72, 74, 75, 76, 78, 80, 82, 84, 85, 86, 88, 90, 92, 94, 95, 96, 98, 100]\n"
     ]
    }
   ],
   "source": [
    "## Using while-loop\n",
    "\n",
    "cubes = []\n",
    "i = 1\n",
    "while i <= 100:\n",
    "    cube = i**3\n",
    "    if cube % 4 == 0 or cube % 5 == 0:\n",
    "        cubes.append(i)\n",
    "    i += 1\n",
    "print(cubes)"
   ]
  },
  {
   "cell_type": "code",
   "execution_count": 11,
   "id": "1542aead-8695-492c-92de-fca7e0207edd",
   "metadata": {},
   "outputs": [
    {
     "name": "stdout",
     "output_type": "stream",
     "text": [
      "Number of vowels in the string: 12\n"
     ]
    }
   ],
   "source": [
    "## Que : 5\n",
    "string = \"I want to become a data scientist\"\n",
    "vowels = \"aeiouAEIOU\"\n",
    "c = 0\n",
    "\n",
    "for char in string:\n",
    "    if char in vowels:\n",
    "        c += 1\n",
    "\n",
    "print(\"Number of vowels in the string:\", c)\n"
   ]
  },
  {
   "cell_type": "code",
   "execution_count": null,
   "id": "9f33b1aa-e22b-4fe5-897d-057681fb0c49",
   "metadata": {},
   "outputs": [],
   "source": []
  }
 ],
 "metadata": {
  "kernelspec": {
   "display_name": "Python 3 (ipykernel)",
   "language": "python",
   "name": "python3"
  },
  "language_info": {
   "codemirror_mode": {
    "name": "ipython",
    "version": 3
   },
   "file_extension": ".py",
   "mimetype": "text/x-python",
   "name": "python",
   "nbconvert_exporter": "python",
   "pygments_lexer": "ipython3",
   "version": "3.10.8"
  }
 },
 "nbformat": 4,
 "nbformat_minor": 5
}
