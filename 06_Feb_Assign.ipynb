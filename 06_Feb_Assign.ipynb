{
 "cells": [
  {
   "cell_type": "code",
   "execution_count": 18,
   "id": "99948b46-8bf4-4ced-b170-a50b2309973b",
   "metadata": {},
   "outputs": [
    {
     "data": {
      "text/plain": [
       "4134711838987085478833841242112000"
      ]
     },
     "execution_count": 18,
     "metadata": {},
     "output_type": "execute_result"
    }
   ],
   "source": [
    "## QUE 1 :\n",
    "def flat(a) :\n",
    "    r = []\n",
    "    for i in a:\n",
    "        if(type(i) == int):\n",
    "            r.append(i)\n",
    "        elif(type(i) == tuple or type(i) == list or type(i) == set) :\n",
    "            r.extend(ext_nums(i))\n",
    "        elif(type(i) == dict) :\n",
    "            r.extend(ext_nums(i.values()))\n",
    "            r.extend(ext_nums(i.keys()))\n",
    "            \n",
    "    return r\n",
    "\n",
    "def ext_nums(l) :\n",
    "    r = []\n",
    "    for i in l :\n",
    "        if(type(i) == int):\n",
    "            r.append(i)\n",
    "        elif(type(i) == tuple or type(i) == list or type(i) == set) :\n",
    "            r.extend(ext_nums(i))\n",
    "    return r\n",
    "\n",
    "list1 = [1,2,3,4, [44,55,66, True], False, (34,56,78,89,34), {1,2,3,3,2,1}, {1:34, \"key2\": [55, 67, 78, 89], 4: (45,\n",
    "22, 61, 34)}, [56, 'data science'], 'Machine Learning']\n",
    "\n",
    "flist = flat(list1)\n",
    "\n",
    "from  functools  import reduce\n",
    "mul = lambda x,y : x*y\n",
    "reduce(mul,flist)"
   ]
  },
  {
   "cell_type": "code",
   "execution_count": 23,
   "id": "12c5540b-d9d1-4394-ba49-3e15d181db3b",
   "metadata": {},
   "outputs": [
    {
     "data": {
      "text/plain": [
       "'i$wznt$to$yexome$z$dztz$sxientist.'"
      ]
     },
     "execution_count": 23,
     "metadata": {},
     "output_type": "execute_result"
    }
   ],
   "source": [
    "## Que 2 :\n",
    "mess = \"I want to become a Data Scientist.\"\n",
    "mess = mess.lower()\n",
    "encryptMess = \"\"\n",
    "for i in mess :\n",
    "    if i == 'a' :\n",
    "        encryptMess += 'z'\n",
    "    elif i == 'b' :\n",
    "        encryptMess += 'y'\n",
    "    elif i == 'c' :\n",
    "        encryptMess += 'x'\n",
    "    elif i == ' ' :\n",
    "        encryptMess += '$'\n",
    "    else :\n",
    "        encryptMess += i\n",
    "        \n",
    "\n",
    "encryptMess"
   ]
  },
  {
   "cell_type": "code",
   "execution_count": null,
   "id": "f04ecc65-a0f1-44d0-ae4f-ef3b22560432",
   "metadata": {},
   "outputs": [],
   "source": []
  }
 ],
 "metadata": {
  "kernelspec": {
   "display_name": "Python 3 (ipykernel)",
   "language": "python",
   "name": "python3"
  },
  "language_info": {
   "codemirror_mode": {
    "name": "ipython",
    "version": 3
   },
   "file_extension": ".py",
   "mimetype": "text/x-python",
   "name": "python",
   "nbconvert_exporter": "python",
   "pygments_lexer": "ipython3",
   "version": "3.10.8"
  }
 },
 "nbformat": 4,
 "nbformat_minor": 5
}
